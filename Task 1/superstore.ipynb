{
  "nbformat": 4,
  "nbformat_minor": 0,
  "metadata": {
    "colab": {
      "provenance": []
    },
    "kernelspec": {
      "name": "python3",
      "display_name": "Python 3"
    },
    "language_info": {
      "name": "python"
    }
  },
  "cells": [
    {
      "cell_type": "markdown",
      "source": [
        "# **Data Cleaning and Preprocessing**"
      ],
      "metadata": {
        "id": "_ORRcgMWxKBe"
      }
    },
    {
      "cell_type": "code",
      "source": [
        "import pandas as pd\n",
        "\n",
        "# Load the dataset\n",
        "df = pd.read_csv(\"superstore.csv\")"
      ],
      "metadata": {
        "id": "W_p675awqA6m"
      },
      "execution_count": 2,
      "outputs": []
    },
    {
      "cell_type": "code",
      "source": [
        "# === Initial Diagnostics ===\n",
        "initial_shape = df.shape\n",
        "initial_missing = df.isnull().sum().sum()\n",
        "initial_duplicates = df.duplicated().sum()"
      ],
      "metadata": {
        "colab": {
          "base_uri": "https://localhost:8080/"
        },
        "id": "5fTso76bqaTo",
        "outputId": "f4450124-be0a-4253-821c-54b925a5d959"
      },
      "execution_count": 5,
      "outputs": [
        {
          "output_type": "execute_result",
          "data": {
            "text/plain": [
              "(5000, 15)"
            ]
          },
          "metadata": {},
          "execution_count": 5
        }
      ]
    },
    {
      "cell_type": "code",
      "source": [
        "# === Shape Of The Dataset ===\n",
        "df.shape"
      ],
      "metadata": {
        "colab": {
          "base_uri": "https://localhost:8080/"
        },
        "id": "VLiKs6o0rnKW",
        "outputId": "0302cc48-c73a-4f3a-cd7c-683d5ce7a1d4"
      },
      "execution_count": 8,
      "outputs": [
        {
          "output_type": "execute_result",
          "data": {
            "text/plain": [
              "(5000, 15)"
            ]
          },
          "metadata": {},
          "execution_count": 8
        }
      ]
    },
    {
      "cell_type": "code",
      "source": [
        "# === Check For Missing Values ===\n",
        "df.isnull().sum()"
      ],
      "metadata": {
        "colab": {
          "base_uri": "https://localhost:8080/",
          "height": 554
        },
        "id": "TXESQ4hAro1v",
        "outputId": "d0baf5a0-dc2f-46bb-8d0b-f99700652679"
      },
      "execution_count": 7,
      "outputs": [
        {
          "output_type": "execute_result",
          "data": {
            "text/plain": [
              "Order ID         0\n",
              "Order Date       0\n",
              "Ship Date        0\n",
              "Ship Mode        0\n",
              "Customer ID      0\n",
              "Customer Name    0\n",
              "Segment          0\n",
              "Region           0\n",
              "Category         0\n",
              "Sub-Category     0\n",
              "Product Name     0\n",
              "Sales            0\n",
              "Quantity         0\n",
              "Discount         0\n",
              "Profit           0\n",
              "dtype: int64"
            ],
            "text/html": [
              "<div>\n",
              "<style scoped>\n",
              "    .dataframe tbody tr th:only-of-type {\n",
              "        vertical-align: middle;\n",
              "    }\n",
              "\n",
              "    .dataframe tbody tr th {\n",
              "        vertical-align: top;\n",
              "    }\n",
              "\n",
              "    .dataframe thead th {\n",
              "        text-align: right;\n",
              "    }\n",
              "</style>\n",
              "<table border=\"1\" class=\"dataframe\">\n",
              "  <thead>\n",
              "    <tr style=\"text-align: right;\">\n",
              "      <th></th>\n",
              "      <th>0</th>\n",
              "    </tr>\n",
              "  </thead>\n",
              "  <tbody>\n",
              "    <tr>\n",
              "      <th>Order ID</th>\n",
              "      <td>0</td>\n",
              "    </tr>\n",
              "    <tr>\n",
              "      <th>Order Date</th>\n",
              "      <td>0</td>\n",
              "    </tr>\n",
              "    <tr>\n",
              "      <th>Ship Date</th>\n",
              "      <td>0</td>\n",
              "    </tr>\n",
              "    <tr>\n",
              "      <th>Ship Mode</th>\n",
              "      <td>0</td>\n",
              "    </tr>\n",
              "    <tr>\n",
              "      <th>Customer ID</th>\n",
              "      <td>0</td>\n",
              "    </tr>\n",
              "    <tr>\n",
              "      <th>Customer Name</th>\n",
              "      <td>0</td>\n",
              "    </tr>\n",
              "    <tr>\n",
              "      <th>Segment</th>\n",
              "      <td>0</td>\n",
              "    </tr>\n",
              "    <tr>\n",
              "      <th>Region</th>\n",
              "      <td>0</td>\n",
              "    </tr>\n",
              "    <tr>\n",
              "      <th>Category</th>\n",
              "      <td>0</td>\n",
              "    </tr>\n",
              "    <tr>\n",
              "      <th>Sub-Category</th>\n",
              "      <td>0</td>\n",
              "    </tr>\n",
              "    <tr>\n",
              "      <th>Product Name</th>\n",
              "      <td>0</td>\n",
              "    </tr>\n",
              "    <tr>\n",
              "      <th>Sales</th>\n",
              "      <td>0</td>\n",
              "    </tr>\n",
              "    <tr>\n",
              "      <th>Quantity</th>\n",
              "      <td>0</td>\n",
              "    </tr>\n",
              "    <tr>\n",
              "      <th>Discount</th>\n",
              "      <td>0</td>\n",
              "    </tr>\n",
              "    <tr>\n",
              "      <th>Profit</th>\n",
              "      <td>0</td>\n",
              "    </tr>\n",
              "  </tbody>\n",
              "</table>\n",
              "</div><br><label><b>dtype:</b> int64</label>"
            ]
          },
          "metadata": {},
          "execution_count": 7
        }
      ]
    },
    {
      "cell_type": "code",
      "source": [
        "# === Check For Duplicate Values ===\n",
        "df.duplicated().sum()"
      ],
      "metadata": {
        "colab": {
          "base_uri": "https://localhost:8080/"
        },
        "id": "V4LI4UP-sCMe",
        "outputId": "08eb8186-2959-471e-fc66-5bb2fb7cabd4"
      },
      "execution_count": 12,
      "outputs": [
        {
          "output_type": "execute_result",
          "data": {
            "text/plain": [
              "np.int64(0)"
            ]
          },
          "metadata": {},
          "execution_count": 12
        }
      ]
    },
    {
      "cell_type": "code",
      "source": [
        "# === Step 1: Drop Missing Values ===\n",
        "df_cleaned = df.dropna()"
      ],
      "metadata": {
        "id": "UiVa9MraqhD2"
      },
      "execution_count": null,
      "outputs": []
    },
    {
      "cell_type": "code",
      "source": [
        "# === Step 2: Remove Duplicate Rows ===\n",
        "df_cleaned = df_cleaned.drop_duplicates()"
      ],
      "metadata": {
        "id": "Jss0cTWiqlAV"
      },
      "execution_count": 10,
      "outputs": []
    },
    {
      "cell_type": "code",
      "source": [
        "# === Step 3: Standardize Column Names ===\n",
        "df_cleaned.columns = (\n",
        "    df_cleaned.columns\n",
        "    .str.strip()                            # Removes any leading or trailing whitespace from each column name.\n",
        "    .str.lower()                            # Converts all characters in the column names to lowercase.\n",
        "    .str.replace(' ', '_', regex=False)     # Replaces all spaces with underscores to make the column names more code-friendly.\n",
        ")"
      ],
      "metadata": {
        "id": "vhHiwm_mqr5V"
      },
      "execution_count": null,
      "outputs": []
    },
    {
      "cell_type": "code",
      "source": [
        "# === Step 4: Convert Date Columns to Datetime ===\n",
        "# Adjust column names according to your dataset\n",
        "date_columns = ['order_date', 'ship_date']                                  # List of column names which contain date values.\n",
        "for col in date_columns:\n",
        "    if col in df_cleaned.columns:\n",
        "        df_cleaned[col] = pd.to_datetime(df_cleaned[col], errors='coerce')  # Converts the column to datetime format using pandas pd.to_datetime() function."
      ],
      "metadata": {
        "id": "fcthRCj5qwXd"
      },
      "execution_count": null,
      "outputs": []
    },
    {
      "cell_type": "code",
      "source": [
        "# === Step 5: Standardize Text Values ===\n",
        "# Detect object columns (likely to be text)\n",
        "text_columns = df_cleaned.select_dtypes(include='object').columns          # Selects all columns in the DataFrame with the data type object\n",
        "for col in text_columns:\n",
        "    df_cleaned[col] = df_cleaned[col].astype(str).str.strip().str.title()  # Converts the column values to strings\n",
        "                                                                           # Removes leading and trailing whitespace from each text entry\n",
        "                                                                           # Capitalizes each word (i.e., Title Case) in the string."
      ],
      "metadata": {
        "id": "QIkw1fd4q0DO"
      },
      "execution_count": null,
      "outputs": []
    },
    {
      "cell_type": "code",
      "source": [
        "# === Step 6: Final Diagnostics ===\n",
        "final_shape = df_cleaned.shape\n",
        "final_missing = df_cleaned.isnull().sum().sum()\n",
        "final_duplicates = df_cleaned.duplicated().sum()"
      ],
      "metadata": {
        "id": "7yXzkZInq3uG"
      },
      "execution_count": null,
      "outputs": []
    },
    {
      "cell_type": "code",
      "source": [
        "df_cleaned.shape"
      ],
      "metadata": {
        "colab": {
          "base_uri": "https://localhost:8080/"
        },
        "id": "4_wJSrfow3m2",
        "outputId": "d530c6ad-f9d3-4651-a392-f62d5224c6ad"
      },
      "execution_count": 13,
      "outputs": [
        {
          "output_type": "execute_result",
          "data": {
            "text/plain": [
              "(5000, 15)"
            ]
          },
          "metadata": {},
          "execution_count": 13
        }
      ]
    },
    {
      "cell_type": "code",
      "source": [
        "df_cleaned.isnull().sum().sum()"
      ],
      "metadata": {
        "colab": {
          "base_uri": "https://localhost:8080/"
        },
        "id": "dsRQ-vjdw779",
        "outputId": "0c3ddfaf-55a3-41a3-d092-b483d5dbb3ba"
      },
      "execution_count": 14,
      "outputs": [
        {
          "output_type": "execute_result",
          "data": {
            "text/plain": [
              "np.int64(0)"
            ]
          },
          "metadata": {},
          "execution_count": 14
        }
      ]
    },
    {
      "cell_type": "code",
      "source": [
        "df_cleaned.duplicated().sum()"
      ],
      "metadata": {
        "colab": {
          "base_uri": "https://localhost:8080/"
        },
        "id": "VupALuxBw_UF",
        "outputId": "00820607-9b17-49fa-a27c-3e6f4ba53d84"
      },
      "execution_count": 15,
      "outputs": [
        {
          "output_type": "execute_result",
          "data": {
            "text/plain": [
              "np.int64(0)"
            ]
          },
          "metadata": {},
          "execution_count": 15
        }
      ]
    },
    {
      "cell_type": "code",
      "source": [
        "# === Save Cleaned Dataset ===\n",
        "df_cleaned.to_csv(\"superstore_cleaned.csv\", index=False)"
      ],
      "metadata": {
        "id": "-VYxQQJNq8st"
      },
      "execution_count": 18,
      "outputs": []
    },
    {
      "cell_type": "markdown",
      "source": [
        "# **Summary**"
      ],
      "metadata": {
        "id": "2-Ffb-exxiIm"
      }
    },
    {
      "cell_type": "code",
      "source": [
        "print(\"=== Cleaning Summary ===\")\n",
        "print(f\"Initial shape: {initial_shape}\")\n",
        "print(f\"Final shape: {final_shape}\")\n",
        "print(f\"Missing values removed: {initial_missing}\")\n",
        "print(f\"Duplicate rows removed: {initial_duplicates}\")\n",
        "print(f\"Remaining missing values: {final_missing}\")\n",
        "print(f\"Remaining duplicate rows: {final_duplicates}\")\n",
        "print(\"Cleaned dataset saved as 'superstore_cleaned.csv'\")"
      ],
      "metadata": {
        "colab": {
          "base_uri": "https://localhost:8080/"
        },
        "id": "Xq-uG_sGq_Dv",
        "outputId": "26a96002-1b3e-4e9f-b8a2-646f14968d2a"
      },
      "execution_count": 17,
      "outputs": [
        {
          "output_type": "stream",
          "name": "stdout",
          "text": [
            "=== Cleaning Summary ===\n",
            "Initial shape: (5000, 15)\n",
            "Final shape: (5000, 15)\n",
            "Missing values removed: 0\n",
            "Duplicate rows removed: 0\n",
            "Remaining missing values: 0\n",
            "Remaining duplicate rows: 0\n",
            "Cleaned dataset saved as 'superstore_cleaned.csv'\n"
          ]
        }
      ]
    }
  ]
}